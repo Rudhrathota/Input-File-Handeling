{
  "metadata": {
    "kernelspec": {
      "name": "python",
      "display_name": "Python (Pyodide)",
      "language": "python"
    },
    "language_info": {
      "codemirror_mode": {
        "name": "python",
        "version": 3
      },
      "file_extension": ".py",
      "mimetype": "text/x-python",
      "name": "python",
      "nbconvert_exporter": "python",
      "pygments_lexer": "ipython3",
      "version": "3.8"
    }
  },
  "nbformat_minor": 4,
  "nbformat": 4,
  "cells": [
    {
      "cell_type": "markdown",
      "source": "#### File Operation- Read And Write Files\n\nFile handling is a crucial part of any programming language. Python provides built-in functions and methods to read from and write to files, both text and binary. This lesson will cover the basics of file handling, including reading and writing text files and binary files.",
      "metadata": {}
    },
    {
      "cell_type": "code",
      "source": "### Read a Whole File\n\nwith open('example.txt','r') as file:\n    content=file.read()\n    print(content)",
      "metadata": {
        "trusted": true
      },
      "outputs": [],
      "execution_count": null
    },
    {
      "cell_type": "code",
      "source": "## Read a file line by line\nwith open('example.txt','r') as file:\n    for line in file:\n        print(line.strip()) ## sstrip() removes the newline character",
      "metadata": {
        "trusted": true
      },
      "outputs": [],
      "execution_count": null
    },
    {
      "cell_type": "code",
      "source": "## Writing a file(Overwriting)\n\nwith open('example.txt','w') as file:\n    file.write('Hello World!\\n')\n    file.write('this is a new line.')",
      "metadata": {
        "trusted": true
      },
      "outputs": [],
      "execution_count": null
    },
    {
      "cell_type": "code",
      "source": "## Write a file(wwithout Overwriting)\nwith open('example.txt','a') as file:\n    file.write(\"Append operation taking place!\\n\")",
      "metadata": {
        "trusted": true
      },
      "outputs": [],
      "execution_count": null
    },
    {
      "cell_type": "code",
      "source": "### Writing a list of lines to a file\nlines=['First line \\n','Second line \\n','Third line\\n']\nwith open('example.txt','a') as file:\n    file.writelines(lines)",
      "metadata": {
        "trusted": true
      },
      "outputs": [],
      "execution_count": null
    },
    {
      "cell_type": "code",
      "source": "### Binary Files\n\n# Writing to a binary file\ndata = b'\\x00\\x01\\x02\\x03\\x04'\nwith open('example.bin', 'wb') as file:\n    file.write(data)\n",
      "metadata": {
        "trusted": true
      },
      "outputs": [],
      "execution_count": null
    },
    {
      "cell_type": "code",
      "source": "# Reading a binary file\nwith open('example.bin', 'rb') as file:\n    content = file.read()\n    print(content)",
      "metadata": {
        "trusted": true
      },
      "outputs": [],
      "execution_count": null
    },
    {
      "cell_type": "code",
      "source": "### Read the content froma  source text fiile and write to a destination text file\n# Copying a text file\nwith open('example.txt', 'r') as source_file:\n    content = source_file.read()\n\nwith open('destination.txt', 'w') as destination_file:\n    destination_file.write(content)\n",
      "metadata": {
        "trusted": true
      },
      "outputs": [],
      "execution_count": null
    },
    {
      "cell_type": "code",
      "source": "#Read a text file and count the number of lines, words, and characters.\n# Counting lines, words, and characters in a text file\ndef count_text_file(file_path):\n    with open(file_path, 'r') as file:\n        lines = file.readlines()\n        line_count = len(lines)\n        word_count = sum(len(line.split()) for line in lines)\n        char_count = sum(len(line) for line in lines)\n    return line_count, word_count, char_count\n\nfile_path = 'example.txt'\nlines, words, characters = count_text_file(file_path)\nprint(f'Lines: {lines}, Words: {words}, Characters: {characters}')\n",
      "metadata": {
        "trusted": true
      },
      "outputs": [],
      "execution_count": null
    },
    {
      "cell_type": "markdown",
      "source": "The w+ mode in Python is used to open a file for both reading and writing. If the file does not exist, it will be created. If the file exists, its content is truncated (i.e., the file is overwritten).",
      "metadata": {}
    },
    {
      "cell_type": "code",
      "source": "### Writing and then reading a file\n\nwith open('example.txt','w+') as file:\n    file.write(\"Hello world\\n\")\n    file.write(\"This is a new line \\n\")\n\n    ## Move the file cursor to the beginning\n    file.seek(0)\n\n    ## Read the content of the file\n    content=file.read()\n    print(content)",
      "metadata": {
        "trusted": true
      },
      "outputs": [],
      "execution_count": null
    },
    {
      "cell_type": "code",
      "source": "",
      "metadata": {
        "trusted": true
      },
      "outputs": [],
      "execution_count": null
    },
    {
      "cell_type": "code",
      "source": "",
      "metadata": {
        "trusted": true
      },
      "outputs": [],
      "execution_count": null
    },
    {
      "cell_type": "code",
      "source": "",
      "metadata": {
        "trusted": true
      },
      "outputs": [],
      "execution_count": null
    }
  ]
}