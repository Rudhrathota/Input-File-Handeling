{
  "metadata": {
    "kernelspec": {
      "name": "python",
      "display_name": "Python (Pyodide)",
      "language": "python"
    },
    "language_info": {
      "codemirror_mode": {
        "name": "ipython",
        "version": 3
      },
      "file_extension": ".py",
      "mimetype": "text/x-python",
      "name": "python",
      "nbconvert_exporter": "python",
      "pygments_lexer": "ipython3",
      "version": "3.12.0"
    }
  },
  "nbformat_minor": 4,
  "nbformat": 4,
  "cells": [
    {
      "cell_type": "markdown",
      "source": "#### Working With File Paths\nWhen working with files in Python, handling file paths correctly is crucial to ensure your code works across different operating systems and environments. Python provides several modules and functions for working with file paths effectively.",
      "metadata": {}
    },
    {
      "cell_type": "code",
      "source": "#### Using the os module\nimport os\ncwd=os.getcwd()\nprint(f\"Current working directory is {cwd}\")",
      "metadata": {
        "trusted": true
      },
      "outputs": [],
      "execution_count": null
    },
    {
      "cell_type": "code",
      "source": "## create a new directory\nnew_directory=\"package\"\nos.mkdir(new_directory)\nprint(f\"Directory '{new_directory}' create\")\n",
      "metadata": {
        "trusted": true
      },
      "outputs": [],
      "execution_count": null
    },
    {
      "cell_type": "code",
      "source": "## Listing Files And Directories\nitems=os.listdir('.')\nprint(items)",
      "metadata": {
        "trusted": true
      },
      "outputs": [],
      "execution_count": null
    },
    {
      "cell_type": "code",
      "source": "### Joining Paths\n\ndir_name=\"folder\"\nfile_name=\"file.txt\"\nfull_path=os.path.join(dir_name,file_name)\nprint(full_path)",
      "metadata": {
        "trusted": true
      },
      "outputs": [],
      "execution_count": null
    },
    {
      "cell_type": "code",
      "source": "\ndir_name=\"folder\"\nfile_name=\"file.txt\"\nfull_path=os.path.join(os.getcwd(),dir_name,file_name)\nprint(full_path)",
      "metadata": {
        "trusted": true
      },
      "outputs": [],
      "execution_count": null
    },
    {
      "cell_type": "code",
      "source": "path='example1.txt'\nif os.path.exists(path):\n    print(f\"The path '{path}' exists\")\nelse:\n    print(f\"The path '{path}' does not exists\")",
      "metadata": {
        "trusted": true
      },
      "outputs": [],
      "execution_count": null
    },
    {
      "cell_type": "code",
      "source": "#Checking if a Path is a File or Directory\nimport os\n\npath = 'example.txt'\nif os.path.isfile(path):\n    print(f\"The path '{path}' is a file.\")\nelif os.path.isdir(path):\n    print(f\"The path '{path}' is a directory.\")\nelse:\n    print(f\"The path '{path}' is neither a file nor a directory.\")\n",
      "metadata": {
        "trusted": true
      },
      "outputs": [],
      "execution_count": null
    },
    {
      "cell_type": "code",
      "source": "## Getting the absolute path\nrelative_path='example.txt'\nabsolute_path=os.path.abspath(relative_path)\nprint(absolute_path)",
      "metadata": {
        "trusted": true
      },
      "outputs": [],
      "execution_count": null
    },
    {
      "cell_type": "code",
      "source": "",
      "metadata": {
        "trusted": true
      },
      "outputs": [],
      "execution_count": null
    }
  ]
}